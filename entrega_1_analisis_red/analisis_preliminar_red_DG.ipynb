{
 "cells": [
  {
   "cell_type": "code",
   "execution_count": 4,
   "metadata": {},
   "outputs": [],
   "source": [
    "# Librerias\n",
    "import numpy as np\n",
    "import pandas as pd\n",
    "import networkx as nx\n",
    "import matplotlib.pyplot as plt\n",
    "import json\n"
   ]
  },
  {
   "cell_type": "code",
   "execution_count": 5,
   "metadata": {},
   "outputs": [],
   "source": [
    "nodos = pd.read_csv('../INPUTS/nodos.csv', sep=',', index_col=\"Id\")\n",
    "arcos = pd.read_csv('../INPUTS/arcos.csv', sep=',', index_col=\"Id\")"
   ]
  },
  {
   "cell_type": "code",
   "execution_count": 6,
   "metadata": {},
   "outputs": [],
   "source": [
    "# Construir red\n",
    "G=nx.DiGraph()\n",
    "# Nodos\n",
    "# Agregar los nodos por su identificador\n",
    "G.add_nodes_from(nodos.index)\n",
    "# Agregar los atributos de los nodos\n",
    "# Primero recorrer los nodos que se agregaron a la red\n",
    "for nodo in G.nodes:\n",
    "    # En cada nodo recorremos los atributos de los nodos\n",
    "    for atr in nodos:\n",
    "        # Agregar cada atributo al nodo\n",
    "        G.nodes[nodo][atr]=nodos[atr][nodo]\n",
    "        \n",
    "# Arcos\n",
    "# Agregar los arcos\n",
    "G.add_edges_from([tuple(x) for x in arcos[['SOURCE','TARGET']].to_numpy()])\n",
    "\n",
    "## Nota: para este ejercicio no requerimos los pesos dado que los pesos son siempre uno (1)"
   ]
  },
  {
   "cell_type": "code",
   "execution_count": 7,
   "metadata": {},
   "outputs": [
    {
     "data": {
      "text/plain": [
       "networkx.classes.digraph.DiGraph"
      ]
     },
     "execution_count": 7,
     "metadata": {},
     "output_type": "execute_result"
    }
   ],
   "source": [
    "type(G)"
   ]
  },
  {
   "cell_type": "code",
   "execution_count": 8,
   "metadata": {},
   "outputs": [
    {
     "data": {
      "text/plain": [
       "2119"
      ]
     },
     "execution_count": 8,
     "metadata": {},
     "output_type": "execute_result"
    }
   ],
   "source": [
    "G.number_of_nodes()"
   ]
  },
  {
   "cell_type": "code",
   "execution_count": 9,
   "metadata": {},
   "outputs": [
    {
     "data": {
      "text/plain": [
       "4181"
      ]
     },
     "execution_count": 9,
     "metadata": {},
     "output_type": "execute_result"
    }
   ],
   "source": [
    "G.number_of_edges()"
   ]
  },
  {
   "cell_type": "code",
   "execution_count": 10,
   "metadata": {},
   "outputs": [],
   "source": [
    "# # Lienzo de la gráfica\n",
    "# fig=plt.figure(figsize=(15,15))\n",
    "\n",
    "# # Después se genera el gráfico\n",
    "# nx.draw_kamada_kawai(G, node_size=50, node_color='lightgreen', edge_color='lightgray')\n",
    "\n",
    "# plt.title('Red de conexiones empresariales y de inversión')\n",
    "# # Por último se muestra la gráfica\n",
    "# plt.show()"
   ]
  },
  {
   "cell_type": "markdown",
   "metadata": {},
   "source": [
    "# Actores relevantes de la red\n",
    "haciendo uso de las herramientas dadas en el curso hasta el momento.\n",
    "\n",
    "Se crea el diccionario `actores_relevantes` para almacenar la información relevante de la red a través de sus estadísticas"
   ]
  },
  {
   "cell_type": "code",
   "execution_count": 11,
   "metadata": {},
   "outputs": [
    {
     "data": {
      "text/plain": [
       "{367: 104,\n",
       " 215: 83,\n",
       " 126: 72,\n",
       " 1345: 72,\n",
       " 494: 67,\n",
       " 1165: 67,\n",
       " 1969: 49,\n",
       " 769: 47,\n",
       " 936: 44,\n",
       " 469: 38,\n",
       " 830: 36,\n",
       " 906: 35,\n",
       " 1477: 33,\n",
       " 2014: 33,\n",
       " 1983: 32,\n",
       " 1091: 31,\n",
       " 676: 30,\n",
       " 766: 28,\n",
       " 1554: 27,\n",
       " 1203: 26}"
      ]
     },
     "execution_count": 11,
     "metadata": {},
     "output_type": "execute_result"
    }
   ],
   "source": [
    "actores_relevantes = {}\n",
    "actores_relevantes[\"grados\"] = G.degree()\n",
    "actores_relevantes[\"Nodos más conectados\"] = {ele[0]:ele[1] for ele in sorted(dict(actores_relevantes[\"grados\"]).items(), key=lambda x: x[1], reverse=True)[:20]}\n",
    "actores_relevantes[\"Nodos más conectados\"]"
   ]
  },
  {
   "cell_type": "code",
   "execution_count": 12,
   "metadata": {},
   "outputs": [
    {
     "data": {
      "text/plain": [
       "{367: 104,\n",
       " 215: 83,\n",
       " 126: 72,\n",
       " 1345: 72,\n",
       " 494: 67,\n",
       " 1165: 67,\n",
       " 769: 47,\n",
       " 1969: 45,\n",
       " 936: 44,\n",
       " 469: 38,\n",
       " 830: 35,\n",
       " 906: 35,\n",
       " 2014: 33,\n",
       " 1983: 32,\n",
       " 1091: 31,\n",
       " 1477: 31,\n",
       " 676: 30,\n",
       " 766: 28,\n",
       " 1406: 26,\n",
       " 1636: 26}"
      ]
     },
     "execution_count": 12,
     "metadata": {},
     "output_type": "execute_result"
    }
   ],
   "source": [
    "actores_relevantes[\"arcos que salen de nodos\"] = G.out_degree()\n",
    "actores_relevantes[\"nodos con mas arcos que salen\"] = {ele[0]:ele[1] for ele in sorted(dict(G.out_degree()).items(), key=lambda x: x[1], reverse=True)[:20]}\n",
    "actores_relevantes[\"nodos con mas arcos que salen\"]\n",
    "\n",
    "actores_relevantes[\"arcos que llegan a los nodos\"] = G.in_degree()\n",
    "actores_relevantes[\"nodos con mas arcos que reciben\"] = {ele[0]:ele[1] for ele in sorted(dict(G.in_degree()).items(), key=lambda x: x[1], reverse=True)[:20]}\n",
    "actores_relevantes[\"nodos con mas arcos que reciben\"]\n"
   ]
  },
  {
   "cell_type": "code",
   "execution_count": 13,
   "metadata": {},
   "outputs": [
    {
     "data": {
      "text/plain": [
       "{367: 0.008363879237549564,\n",
       " 1345: 0.007157552138861239,\n",
       " 215: 0.006466323741546918,\n",
       " 126: 0.005379873245484768,\n",
       " 1165: 0.005138687045728998,\n",
       " 494: 0.004889222817627057,\n",
       " 1969: 0.003967718986056227,\n",
       " 744: 0.0038954761554775875,\n",
       " 936: 0.0037554633306677355,\n",
       " 764: 0.00371579239727939,\n",
       " 769: 0.0036486477818671167,\n",
       " 830: 0.0035928187566486086,\n",
       " 906: 0.003296065953864244,\n",
       " 916: 0.003033220225918085,\n",
       " 314: 0.002814321242740815,\n",
       " 469: 0.002713536087110522,\n",
       " 1043: 0.0026872191116760705,\n",
       " 1477: 0.002535435399035205,\n",
       " 1962: 0.0024247376158257035,\n",
       " 1983: 0.002401178129705633}"
      ]
     },
     "execution_count": 13,
     "metadata": {},
     "output_type": "execute_result"
    }
   ],
   "source": [
    "actores_relevantes[\"PageRank\"] = nx.pagerank(G)\n",
    "\n",
    "actores_relevantes[\"Nodos más PageRank\"] = {ele[0]:ele[1] for ele in sorted(nx.pagerank(G).items(), key=lambda x: x[1], reverse=True)[:20]}\n",
    "actores_relevantes[\"Nodos más PageRank\"]"
   ]
  },
  {
   "cell_type": "code",
   "execution_count": 14,
   "metadata": {},
   "outputs": [
    {
     "data": {
      "text/plain": [
       "0.0009315866473620345"
      ]
     },
     "execution_count": 14,
     "metadata": {},
     "output_type": "execute_result"
    }
   ],
   "source": [
    "actores_relevantes[\"Densidad\"] = nx.density(G)\n",
    "actores_relevantes[\"Densidad\"]\n"
   ]
  },
  {
   "cell_type": "code",
   "execution_count": 15,
   "metadata": {},
   "outputs": [
    {
     "data": {
      "text/plain": [
       "{0: 2074,\n",
       " 1: 9,\n",
       " 2: 5,\n",
       " 3: 5,\n",
       " 4: 4,\n",
       " 5: 3,\n",
       " 6: 2,\n",
       " 7: 2,\n",
       " 8: 2,\n",
       " 9: 1,\n",
       " 10: 1,\n",
       " 11: 1,\n",
       " 12: 1,\n",
       " 13: 1,\n",
       " 14: 1,\n",
       " 15: 1,\n",
       " 16: 1,\n",
       " 17: 1,\n",
       " 18: 1,\n",
       " 19: 1,\n",
       " 20: 1,\n",
       " 21: 1}"
      ]
     },
     "execution_count": 15,
     "metadata": {},
     "output_type": "execute_result"
    }
   ],
   "source": [
    "G_no_dirigida = G.to_undirected()\n",
    "actores_relevantes[\"componentes_de_la_red\"] = {i:j for i, j  in enumerate(reversed(sorted(list(nx.connected_components(G_no_dirigida)), key=len)))}\n",
    "actores_relevantes[\"componentes_de_la_red\"]\n",
    "actores_relevantes[\"num_nodos_componentes\"] = {ele:len(actores_relevantes[\"componentes_de_la_red\"][ele]) for ele in actores_relevantes[\"componentes_de_la_red\"].keys()}\n",
    "actores_relevantes[\"num_nodos_componentes\"]"
   ]
  },
  {
   "cell_type": "code",
   "execution_count": 16,
   "metadata": {},
   "outputs": [
    {
     "data": {
      "text/plain": [
       "{215: 0.30497572550865387,\n",
       " 126: 0.2936623996957434,\n",
       " 1406: 0.29366198995985204,\n",
       " 1279: 0.2936617869853257,\n",
       " 936: 0.276723812027599,\n",
       " 95: 0.2710833342358129,\n",
       " 336: 0.24848211518348812,\n",
       " 660: 0.24847605969263623,\n",
       " 1953: 0.24847605969263623,\n",
       " 938: 0.22024629517561964,\n",
       " 122: 0.22024576998324055,\n",
       " 2116: 0.2033038358441243,\n",
       " 1043: 0.12440073904846985,\n",
       " 1874: 0.12439309948113282,\n",
       " 145: 0.12439300632491368,\n",
       " 836: 0.12439300632491368,\n",
       " 1969: 0.12427320439763082,\n",
       " 314: 0.0677681061518705,\n",
       " 1725: 0.0677680765303809,\n",
       " 1099: 0.06776781919368882}"
      ]
     },
     "execution_count": 16,
     "metadata": {},
     "output_type": "execute_result"
    }
   ],
   "source": [
    "# Centralidad\n",
    "actores_relevantes[\"centralidad_eigen_vector\"] = nx.eigenvector_centrality(G)\n",
    "actores_relevantes[\"nodos_mas_centrales_eigen_vector\"] = {ele[0]:ele[1] for ele in sorted(nx.eigenvector_centrality(G).items(), key=lambda x: x[1], reverse=True)[:20]}\n",
    "actores_relevantes[\"nodos_mas_centrales_eigen_vector\"]\n"
   ]
  },
  {
   "cell_type": "code",
   "execution_count": 17,
   "metadata": {},
   "outputs": [
    {
     "data": {
      "text/plain": [
       "{2086: 8.419186735554571e-05,\n",
       " 1969: 8.218464402786382e-05,\n",
       " 1597: 4.783882264308491e-05,\n",
       " 1554: 3.992144173945081e-05,\n",
       " 1203: 3.694777755029247e-05,\n",
       " 226: 3.445733379187235e-05,\n",
       " 938: 3.1446498800349525e-05,\n",
       " 1957: 3.055439954360202e-05,\n",
       " 949: 2.4978779188930117e-05,\n",
       " 1962: 2.4309704746369488e-05,\n",
       " 1477: 2.2748531047061356e-05,\n",
       " 830: 2.0964332533566348e-05,\n",
       " 1954: 2.0518282905192595e-05,\n",
       " 294: 2.0072233276818845e-05,\n",
       " 1097: 1.9626183648445092e-05,\n",
       " 1474: 1.9403158834258216e-05,\n",
       " 1560: 1.8399547170417273e-05,\n",
       " 336: 1.739593550657633e-05,\n",
       " 1396: 1.7172910692389454e-05,\n",
       " 1649: 1.58347618072682e-05}"
      ]
     },
     "execution_count": 17,
     "metadata": {},
     "output_type": "execute_result"
    }
   ],
   "source": [
    "# Intermediacion\n",
    "actores_relevantes[\"intermediacion\"] = nx.betweenness_centrality(G)\n",
    "actores_relevantes[\"nodos_con_mas_intermediacion\"] = {ele[0]:ele[1] for ele in sorted(nx.betweenness_centrality(G).items(), key=lambda x: x[1], reverse=True)[:20]}\n",
    "actores_relevantes[\"nodos_con_mas_intermediacion\"]\n",
    "\n"
   ]
  },
  {
   "cell_type": "code",
   "execution_count": 18,
   "metadata": {},
   "outputs": [
    {
     "data": {
      "text/plain": [
       "{367: 0.05411516381256718,\n",
       " 215: 0.045650481255073476,\n",
       " 1345: 0.04098751187534263,\n",
       " 126: 0.03408876298394712,\n",
       " 1165: 0.03171047719436941,\n",
       " 494: 0.030544054623374742,\n",
       " 769: 0.026292492917847025,\n",
       " 1043: 0.025414167083263897,\n",
       " 1969: 0.02521641971829593,\n",
       " 936: 0.023865613041101342,\n",
       " 830: 0.02330648181851752,\n",
       " 744: 0.01910505955100673,\n",
       " 95: 0.01842089892234456,\n",
       " 469: 0.01838635868380911,\n",
       " 1477: 0.017847025495750707,\n",
       " 906: 0.017840280588155944,\n",
       " 1874: 0.017272312852072546,\n",
       " 145: 0.016765123901420296,\n",
       " 836: 0.016765123901420296,\n",
       " 1983: 0.016414975114840927}"
      ]
     },
     "execution_count": 18,
     "metadata": {},
     "output_type": "execute_result"
    }
   ],
   "source": [
    "# Closeness - cercanía\n",
    "actores_relevantes[\"cercania-closeness\"] = nx.closeness_centrality(G)\n",
    "actores_relevantes[\"nodos_con_mas_cercania\"] = {ele[0]:ele[1] for ele in sorted(nx.closeness_centrality(G).items(), key=lambda x: x[1], reverse=True)[:20]}\n",
    "actores_relevantes[\"nodos_con_mas_cercania\"]\n",
    "\n"
   ]
  },
  {
   "cell_type": "code",
   "execution_count": 19,
   "metadata": {},
   "outputs": [
    {
     "data": {
      "text/plain": [
       "{1212: 1.0,\n",
       " 248: 0.6666666666666666,\n",
       " 1233: 0.6666666666666666,\n",
       " 393: 0.3333333333333333,\n",
       " 698: 0.3333333333333333,\n",
       " 724: 0.3333333333333333,\n",
       " 756: 0.3333333333333333,\n",
       " 810: 0.3333333333333333,\n",
       " 1346: 0.3333333333333333,\n",
       " 1368: 0.3333333333333333,\n",
       " 1688: 0.3333333333333333,\n",
       " 1831: 0.3333333333333333,\n",
       " 1874: 0.3333333333333333,\n",
       " 1153: 0.3,\n",
       " 11: 0.2,\n",
       " 406: 0.2,\n",
       " 482: 0.2,\n",
       " 945: 0.2,\n",
       " 1053: 0.2,\n",
       " 1105: 0.2}"
      ]
     },
     "execution_count": 19,
     "metadata": {},
     "output_type": "execute_result"
    }
   ],
   "source": [
    "actores_relevantes[\"clustering_dirigido\"] = nx.clustering(G)\n",
    "actores_relevantes[\"nodos_con_mas_clustering_dirigido\"] = {ele[0]:ele[1] for ele in sorted(nx.clustering(G).items(), key=lambda x: x[1], reverse=True)[:20]}\n",
    "actores_relevantes[\"nodos_con_mas_clustering_dirigido\"]\n",
    "\n",
    "actores_relevantes[\"clustering_no_dirigido\"] = nx.clustering(G_no_dirigida)\n",
    "actores_relevantes[\"nodos_con_mas_clustering_no_dirigido\"] = {ele[0]:ele[1] for ele in sorted(nx.clustering(G_no_dirigida).items(), key=lambda x: x[1], reverse=True)[:20]}\n",
    "actores_relevantes[\"nodos_con_mas_clustering_no_dirigido\"]\n"
   ]
  },
  {
   "cell_type": "code",
   "execution_count": null,
   "metadata": {},
   "outputs": [],
   "source": [
    "\n"
   ]
  },
  {
   "cell_type": "code",
   "execution_count": 20,
   "metadata": {},
   "outputs": [
    {
     "data": {
      "text/plain": [
       "0.0009315866473620345"
      ]
     },
     "execution_count": 20,
     "metadata": {},
     "output_type": "execute_result"
    }
   ],
   "source": [
    "# path = dict(nx.all_pairs_shortest_path(G))\n",
    "# path = dict(nx.all_pairs_shortest_path(G_no_dirigida))\n",
    "# mayor_distancia=0\n",
    "# for i in G_no_dirigida.nodes():\n",
    "#     for j in G_no_dirigida.nodes():\n",
    "#         if i != j:\n",
    "#             if len(path[i][j]) > mayor_distancia:\n",
    "#                 mayor_distancia=len(path[i][j])-1\n",
    "\n",
    "\n",
    "# print('El diametro de la red es', mayor_distancia)\n",
    "\n",
    "nx.is_strongly_connected(G) \n",
    "\n",
    "nx.reciprocity(G) # Reciprocidad de la red\n",
    "nx.degree_assortativity_coefficient(G) # asortatividad\n",
    "nx.density(G) # Qué proporción de de conexiones entre los nodos existen\n",
    "\n",
    "#nx.is_strongly_connected(G)\n",
    "#nx.is_connected(G_no_dirigida)\n",
    "#nx.diameter(G) # Solo funciona en las componentes\n"
   ]
  },
  {
   "cell_type": "markdown",
   "metadata": {},
   "source": [
    "# Función de análisis de la red\n"
   ]
  },
  {
   "cell_type": "code",
   "execution_count": 21,
   "metadata": {},
   "outputs": [],
   "source": [
    "# Crear la red\n",
    "def construir_red(nodos, arcos, dirigida=True):\n",
    "    if dirigida == True:\n",
    "        G=nx.DiGraph()\n",
    "    else:\n",
    "        G=nx.Graph()\n",
    "    G.add_nodes_from(nodos.index)\n",
    "    for nodo in G.nodes:\n",
    "        for atr in nodos:\n",
    "            G.nodes[nodo][atr]=nodos[atr][nodo]\n",
    "    G.add_edges_from([tuple(x) for x in arcos[['SOURCE','TARGET']].to_numpy()])\n",
    "    return G\n",
    "G = construir_red(nodos, arcos)\n",
    "\n",
    "def analizar_top_nodos(analisis_red):\n",
    "    nodos = []\n",
    "    for resultado in analisis_red['cálculos para el top 20'].keys():\n",
    "        for nodo in analisis_red['cálculos para el top 20'][resultado].keys():\n",
    "            if nodo not in nodos:\n",
    "                nodos.append(nodo)\n",
    "            else:\n",
    "                None\n",
    "\n",
    "    inventario_nodos = pd.DataFrame(nodos).rename(columns={0:\"top_nodos\"}).sort_values(\"top_nodos\").reset_index(drop=True)\n",
    "\n",
    "    for resultado in analisis_red['cálculos para el top 20'].keys():\n",
    "        inventario_nodos[resultado] = [analisis_red.get(\"cálculos para el top 20\").get(resultado).get(int(ele),np.nan) for ele in inventario_nodos[\"top_nodos\"]]\n",
    "    return inventario_nodos\n",
    "\n",
    "def analisis_general_red(graph_networkx, top_nodos=20):\n",
    "    G = graph_networkx\n",
    "    G_no_dirigida = G.to_undirected()\n",
    "    \n",
    "    analisis_red = {}\n",
    "    # estadísticas generales de la red\n",
    "    analisis_red[\"estadisticas generales\"] = {}\n",
    "    analisis_red[\"estadisticas generales\"][\"Es dirigida\"] = G.is_directed()\n",
    "    analisis_red[\"estadisticas generales\"][\"Número nodos\"] = G.number_of_nodes()\n",
    "    analisis_red[\"estadisticas generales\"][\"Número de aristas\"] = G.number_of_edges()\n",
    "    analisis_red[\"estadisticas generales\"][\"Reciprocidad de la red\"] = nx.reciprocity(G) # Reciprocidad de la red\n",
    "    analisis_red[\"estadisticas generales\"][\"asortatividad\"] = nx.degree_assortativity_coefficient(G) # asortatividad\n",
    "    analisis_red[\"estadisticas generales\"][\"densidad\"] = nx.density(G) # Qué proporción de de conexiones entre los nodos existen, esto cambia si es no dirigida\n",
    "\n",
    "    analisis_red[\"estadisticas generales\"][\"fuertemente conectada\"] = nx.is_strongly_connected(G) # Puede ser porque sea dirigida o porque hay más de una componente\n",
    "    analisis_red[\"estadisticas generales\"][\"está conectada\"] =  G_no_dirigida.is_directed() if G.is_directed() else nx.is_connected(G) # Puede ser porque sea dirigida o porque hay más de una componente\n",
    "    analisis_red[\"estadisticas generales\"][\"diámetro\"] = nx.diameter(G) if nx.is_connected(G_no_dirigida) else \"Puede ser porque sea dirigida o porque hay más de una componente\" # Puede ser porque sea dirigida o porque hay más de una componente\n",
    "\n",
    "    # cálculos sobre la red\n",
    "    analisis_red[\"cálculos sobre la red\"] = {}\n",
    "    ## Análisis de las componentes\n",
    "    \n",
    "    analisis_red[\"cálculos sobre la red\"][\"componentes_de_la_red\"] = {i: j for i, j in enumerate(reversed(sorted(list(nx.connected_components(G_no_dirigida)), key=len)))}\n",
    "    analisis_red[\"estadisticas generales\"][\"estadísticas de los componentes\"] = {ele:len(analisis_red[\"cálculos sobre la red\"][\"componentes_de_la_red\"] [ele]) for ele in analisis_red[\"cálculos sobre la red\"][\"componentes_de_la_red\"].keys()}\n",
    "\n",
    "    analisis_red[\"cálculos sobre la red\"][\"grados\"] = G.degree()\n",
    "    analisis_red[\"cálculos sobre la red\"][\"arcos que salen de nodos\"] = G.out_degree()\n",
    "    analisis_red[\"cálculos sobre la red\"][\"arcos que llegan a los nodos\"] = G.in_degree()\n",
    "    analisis_red[\"cálculos sobre la red\"][\"PageRank\"] = nx.pagerank(G)\n",
    "    analisis_red[\"cálculos sobre la red\"][\"centralidad_eigen_vector\"] = nx.eigenvector_centrality(G)\n",
    "    analisis_red[\"cálculos sobre la red\"][\"intermediacion\"] = nx.betweenness_centrality(G)\n",
    "    analisis_red[\"cálculos sobre la red\"][\"cercania-closeness\"] = nx.closeness_centrality(G)\n",
    "    analisis_red[\"cálculos sobre la red\"][\"clustering_dirigido\"] = nx.clustering(G) if G.is_directed() else \"La red es no dirigida\"\n",
    "    analisis_red[\"cálculos sobre la red\"][\"clustering_no_dirigido\"] = nx.clustering(G_no_dirigida)\n",
    "\n",
    "\n",
    "    # resultados para el top\n",
    "    analisis_red[f\"cálculos para el top {top_nodos}\"] = {}\n",
    "    analisis_red[f\"cálculos para el top {top_nodos}\"][\"Nodos más conectados\"] = {ele[0]:ele[1] for ele in sorted(dict(G.degree()).items(), key=lambda x: x[1], reverse=True)[:top_nodos]} \n",
    "    analisis_red[f\"cálculos para el top {top_nodos}\"][\"nodos con mas arcos que salen\"] = {ele[0]:ele[1] for ele in sorted(dict(G.out_degree()).items(), key=lambda x: x[1], reverse=True)[:top_nodos]}\n",
    "    analisis_red[f\"cálculos para el top {top_nodos}\"][\"nodos con mas arcos que reciben\"] = {ele[0]:ele[1] for ele in sorted(dict(G.in_degree()).items(), key=lambda x: x[1], reverse=True)[:top_nodos]}\n",
    "    analisis_red[f\"cálculos para el top {top_nodos}\"][\"Nodos más PageRank\"] = {ele[0]:ele[1] for ele in sorted(nx.pagerank(G).items(), key=lambda x: x[1], reverse=True)[:top_nodos]}\n",
    "    analisis_red[f\"cálculos para el top {top_nodos}\"][\"nodos_mas_centrales_eigen_vector\"] = {ele[0]:ele[1] for ele in sorted(nx.eigenvector_centrality(G).items(), key=lambda x: x[1], reverse=True)[:top_nodos]}\n",
    "    analisis_red[f\"cálculos para el top {top_nodos}\"][\"nodos_con_mas_intermediacion\"] = {ele[0]:ele[1] for ele in sorted(nx.betweenness_centrality(G).items(), key=lambda x: x[1], reverse=True)[:top_nodos]}\n",
    "    analisis_red[f\"cálculos para el top {top_nodos}\"][\"nodos_con_mas_cercania\"] = {ele[0]:ele[1] for ele in sorted(nx.closeness_centrality(G).items(), key=lambda x: x[1], reverse=True)[:top_nodos]}\n",
    "    analisis_red[f\"cálculos para el top {top_nodos}\"][\"nodos_con_mas_clustering_dirigido\"] = {ele[0]:ele[1] for ele in sorted(nx.clustering(G).items(), key=lambda x: x[1], reverse=True)[:top_nodos]} if G.is_directed() else \"La red es no dirigida\"\n",
    "    analisis_red[f\"cálculos para el top {top_nodos}\"][\"nodos_con_mas_clustering_no_dirigido\"] = {ele[0]:ele[1] for ele in sorted(nx.clustering(G_no_dirigida).items(), key=lambda x: x[1], reverse=True)[:top_nodos]}\n",
    "\n",
    "    analisis_top = analizar_top_nodos(analisis_red)\n",
    "    return analisis_red, analisis_top\n",
    "\n",
    "analisis_red, analisis_top = analisis_general_red(G)\n",
    "\n",
    "def crear_red_fuertemente_conectada(nxgraph):\n",
    "    G = nxgraph\n",
    "    # Encuentra los componentes fuertemente conexos\n",
    "    sccs = nx.strongly_connected_components(G)\n",
    "    # Une los componentes fuertemente conexos en un nuevo grafo\n",
    "    G_scc = nx.compose_all([G.subgraph(c) for c in sccs])\n",
    "    # Ahora puedes usar G_scc para cálculos que requieren un grafo fuertemente conexo\n",
    "\n",
    "\n",
    "\n",
    "def exportar_json(diccionario,ruta):\n",
    "    with open(ruta, \"w\") as archivo:\n",
    "        json.dump(diccionario, archivo)\n",
    "\n",
    "def generar_tabla_componentes (resultado_componentes):\n",
    "    componentes_red = []\n",
    "    for componente in resultado_componentes.keys():\n",
    "        df = pd.DataFrame(resultado_componentes[componente]).rename(columns={0:\"nodo\"})\n",
    "        df[\"componente\"] = componente\n",
    "        componentes_red.append(df)\n",
    "    \n",
    "    concatenado = pd.concat(componentes_red).reset_index(drop=True)\n",
    "    return concatenado\n",
    "\n"
   ]
  },
  {
   "cell_type": "code",
   "execution_count": 22,
   "metadata": {},
   "outputs": [
    {
     "data": {
      "text/html": [
       "<div>\n",
       "<style scoped>\n",
       "    .dataframe tbody tr th:only-of-type {\n",
       "        vertical-align: middle;\n",
       "    }\n",
       "\n",
       "    .dataframe tbody tr th {\n",
       "        vertical-align: top;\n",
       "    }\n",
       "\n",
       "    .dataframe thead th {\n",
       "        text-align: right;\n",
       "    }\n",
       "</style>\n",
       "<table border=\"1\" class=\"dataframe\">\n",
       "  <thead>\n",
       "    <tr style=\"text-align: right;\">\n",
       "      <th></th>\n",
       "      <th>nodo</th>\n",
       "      <th>componente</th>\n",
       "    </tr>\n",
       "  </thead>\n",
       "  <tbody>\n",
       "    <tr>\n",
       "      <th>0</th>\n",
       "      <td>0</td>\n",
       "      <td>0</td>\n",
       "    </tr>\n",
       "    <tr>\n",
       "      <th>1</th>\n",
       "      <td>1</td>\n",
       "      <td>0</td>\n",
       "    </tr>\n",
       "    <tr>\n",
       "      <th>2</th>\n",
       "      <td>2</td>\n",
       "      <td>0</td>\n",
       "    </tr>\n",
       "    <tr>\n",
       "      <th>3</th>\n",
       "      <td>3</td>\n",
       "      <td>0</td>\n",
       "    </tr>\n",
       "    <tr>\n",
       "      <th>4</th>\n",
       "      <td>4</td>\n",
       "      <td>0</td>\n",
       "    </tr>\n",
       "    <tr>\n",
       "      <th>...</th>\n",
       "      <td>...</td>\n",
       "      <td>...</td>\n",
       "    </tr>\n",
       "    <tr>\n",
       "      <th>2114</th>\n",
       "      <td>507</td>\n",
       "      <td>17</td>\n",
       "    </tr>\n",
       "    <tr>\n",
       "      <th>2115</th>\n",
       "      <td>434</td>\n",
       "      <td>18</td>\n",
       "    </tr>\n",
       "    <tr>\n",
       "      <th>2116</th>\n",
       "      <td>398</td>\n",
       "      <td>19</td>\n",
       "    </tr>\n",
       "    <tr>\n",
       "      <th>2117</th>\n",
       "      <td>317</td>\n",
       "      <td>20</td>\n",
       "    </tr>\n",
       "    <tr>\n",
       "      <th>2118</th>\n",
       "      <td>295</td>\n",
       "      <td>21</td>\n",
       "    </tr>\n",
       "  </tbody>\n",
       "</table>\n",
       "<p>2119 rows × 2 columns</p>\n",
       "</div>"
      ],
      "text/plain": [
       "      nodo  componente\n",
       "0        0           0\n",
       "1        1           0\n",
       "2        2           0\n",
       "3        3           0\n",
       "4        4           0\n",
       "...    ...         ...\n",
       "2114   507          17\n",
       "2115   434          18\n",
       "2116   398          19\n",
       "2117   317          20\n",
       "2118   295          21\n",
       "\n",
       "[2119 rows x 2 columns]"
      ]
     },
     "execution_count": 22,
     "metadata": {},
     "output_type": "execute_result"
    }
   ],
   "source": [
    "componentes_red_general = generar_tabla_componentes(analisis_red[\"cálculos sobre la red\"][\"componentes_de_la_red\"])\n",
    "componentes_red_general"
   ]
  },
  {
   "cell_type": "code",
   "execution_count": 41,
   "metadata": {},
   "outputs": [
    {
     "data": {
      "text/plain": [
       "{'Es dirigida': True,\n",
       " 'Número nodos': 2119,\n",
       " 'Número de aristas': 4181,\n",
       " 'Reciprocidad de la red': 0.0014350633819660368,\n",
       " 'asortatividad': 0.11248325729375673,\n",
       " 'densidad': 0.0009315866473620345,\n",
       " 'fuertemente conectada': False,\n",
       " 'está conectada': False,\n",
       " 'diámetro': 'Puede ser porque sea dirigida o porque hay más de una componente',\n",
       " 'estadísticas de los componentes': {0: 2074,\n",
       "  1: 9,\n",
       "  2: 5,\n",
       "  3: 5,\n",
       "  4: 4,\n",
       "  5: 3,\n",
       "  6: 2,\n",
       "  7: 2,\n",
       "  8: 2,\n",
       "  9: 1,\n",
       "  10: 1,\n",
       "  11: 1,\n",
       "  12: 1,\n",
       "  13: 1,\n",
       "  14: 1,\n",
       "  15: 1,\n",
       "  16: 1,\n",
       "  17: 1,\n",
       "  18: 1,\n",
       "  19: 1,\n",
       "  20: 1,\n",
       "  21: 1}}"
      ]
     },
     "execution_count": 41,
     "metadata": {},
     "output_type": "execute_result"
    }
   ],
   "source": [
    "analisis_red[\"estadisticas generales\"]"
   ]
  },
  {
   "cell_type": "code",
   "execution_count": 23,
   "metadata": {},
   "outputs": [],
   "source": [
    "exportar_json(analisis_red[\"estadisticas generales\"],\"resultados_red_general.json\")\n",
    "#exportar_json(analisis_red[\"cálculos sobre la red\"][\"componentes_de_la_red\"],\"nodos_de_las_componentes_res_gral.json\")\n",
    "\n",
    "# exportar_json(analisis_red[\"cálculos sobre la red\"],\"calculos_red_general.json\")\n"
   ]
  },
  {
   "cell_type": "code",
   "execution_count": 24,
   "metadata": {},
   "outputs": [],
   "source": [
    "analisistop_con_metadato = analisis_top.merge(nodos,how=\"left\", left_on=\"top_nodos\",right_on=\"Id\")\n",
    "analisistop_con_metadato.to_excel(\"analisistop_con_metadato.xlsx\",index=False)\n",
    "componentes_red_general.to_excel(\"listado_componentes_red_general.xlsx\",index=False)\n"
   ]
  },
  {
   "cell_type": "markdown",
   "metadata": {},
   "source": [
    "# Análisis de la red fuertemente conectada\n",
    "deberán identificar los actores relevantes de la red haciendo uso de las herramientas dadas en el curso hasta el momento"
   ]
  },
  {
   "cell_type": "code",
   "execution_count": 25,
   "metadata": {},
   "outputs": [],
   "source": [
    "# def crear_red_fuertemente_conectada(nxgraph):\n",
    "#     G = nxgraph\n",
    "#     # Encuentra los componentes fuertemente conexos\n",
    "#     sccs = nx.strongly_connected_components(G)\n",
    "#     # Une los componentes fuertemente conexos en un nuevo grafo\n",
    "#     G_scc = nx.compose_all([G.subgraph(c) for c in sccs])\n",
    "#     # Ahora puedes usar G_scc para cálculos que requieren un grafo fuertemente conexo\n",
    "#     return G_scc\n",
    "\n",
    "# G_scc = crear_red_fuertemente_conectada(G)"
   ]
  },
  {
   "cell_type": "code",
   "execution_count": 26,
   "metadata": {},
   "outputs": [],
   "source": [
    "# analisis_componente_1, analisis_top_componente_1 = analisis_general_red(G_scc)\n",
    "\n",
    "# analisistop_con_metadato = analisis_top_componente_1.merge(nodos,how=\"left\", left_on=\"top_nodos\",right_on=\"Id\")\n",
    "\n",
    "# # Exportar resultados interesantes\n",
    "# analisistop_con_metadato.to_excel(\"analisistop_con_metadato_conectada_fuerte.xlsx\",index=False)\n",
    "# exportar_json(analisis_componente_1[\"estadisticas generales\"],\"resultados__conectada_fuerte.json\")\n",
    "# #exportar_json(analisis_componente_1[\"cálculos sobre la red\"][\"componentes_de_la_red\"],\"nodos_de_las_componentes__conectada_fuerte.json\")\n"
   ]
  },
  {
   "cell_type": "code",
   "execution_count": 27,
   "metadata": {},
   "outputs": [],
   "source": [
    "# G_scc.nodes()"
   ]
  },
  {
   "cell_type": "code",
   "execution_count": 28,
   "metadata": {},
   "outputs": [],
   "source": [
    "# \n",
    "# analisis_top_componente_1"
   ]
  },
  {
   "cell_type": "code",
   "execution_count": null,
   "metadata": {},
   "outputs": [],
   "source": []
  },
  {
   "cell_type": "markdown",
   "metadata": {},
   "source": [
    "# Análisis de la primera componente"
   ]
  },
  {
   "cell_type": "code",
   "execution_count": 29,
   "metadata": {},
   "outputs": [],
   "source": [
    "def crear_primera_componente(nxgraph):\n",
    "    G = nxgraph\n",
    "    # Encuentra los componentes fuertemente conexos\n",
    "    sccs = nx.strongly_connected_components(G)\n",
    "    # Une los componentes fuertemente conexos en un nuevo grafo\n",
    "    G_scc = nx.compose_all([G.subgraph(c) for c in sccs])\n",
    "    # Ahora puedes usar G_scc para cálculos que requieren un grafo fuertemente conexo\n",
    "    return G_scc\n",
    "\n",
    "G_scc = crear_red_fuertemente_conectada(G)"
   ]
  },
  {
   "cell_type": "code",
   "execution_count": 30,
   "metadata": {},
   "outputs": [],
   "source": [
    "# Supongamos que tienes un grafo llamado G\n",
    "G_no_dirigida = G.to_undirected()\n",
    "# Obtén las componentes conectadas\n",
    "componentes_conectadas = list(nx.connected_components(G_no_dirigida))\n",
    "\n",
    "# Selecciona la primera componente\n",
    "primera_componente = next(iter(componentes_conectadas))\n",
    "\n",
    "# Ahora, tienes los nodos de la primera componente en forma de un conjunto\n",
    "# Si necesitas una lista, simplemente conviértela\n",
    "nodos_primera_componente = list(primera_componente)"
   ]
  },
  {
   "cell_type": "code",
   "execution_count": 31,
   "metadata": {},
   "outputs": [
    {
     "data": {
      "text/plain": [
       "2074"
      ]
     },
     "execution_count": 31,
     "metadata": {},
     "output_type": "execute_result"
    }
   ],
   "source": [
    "len(nodos_primera_componente)"
   ]
  },
  {
   "cell_type": "code",
   "execution_count": 32,
   "metadata": {},
   "outputs": [
    {
     "data": {
      "text/html": [
       "<div>\n",
       "<style scoped>\n",
       "    .dataframe tbody tr th:only-of-type {\n",
       "        vertical-align: middle;\n",
       "    }\n",
       "\n",
       "    .dataframe tbody tr th {\n",
       "        vertical-align: top;\n",
       "    }\n",
       "\n",
       "    .dataframe thead th {\n",
       "        text-align: right;\n",
       "    }\n",
       "</style>\n",
       "<table border=\"1\" class=\"dataframe\">\n",
       "  <thead>\n",
       "    <tr style=\"text-align: right;\">\n",
       "      <th></th>\n",
       "      <th>Id</th>\n",
       "      <th>Label</th>\n",
       "      <th>Headquarters Location</th>\n",
       "      <th>Operating Status</th>\n",
       "      <th>Company Type</th>\n",
       "      <th>Number of Investments</th>\n",
       "      <th>Number of Lead Investments</th>\n",
       "      <th>Number of Diversity Investments</th>\n",
       "      <th>Number of Exits</th>\n",
       "      <th>Number of Lead Investors</th>\n",
       "      <th>...</th>\n",
       "      <th>Total Funding Amount Currency</th>\n",
       "      <th>Total Funding Amount Currency (in USD)</th>\n",
       "      <th>Number of Events</th>\n",
       "      <th>SEMrush - Monthly Visits</th>\n",
       "      <th>SEMrush - Average Visits (6 months)</th>\n",
       "      <th>SEMrush - Visit Duration</th>\n",
       "      <th>Aberdeen - IT Spend</th>\n",
       "      <th>Aberdeen - IT Spend Currency</th>\n",
       "      <th>Aberdeen - IT Spend Currency (in USD)</th>\n",
       "      <th>Principales inversionistas</th>\n",
       "    </tr>\n",
       "  </thead>\n",
       "  <tbody>\n",
       "    <tr>\n",
       "      <th>0</th>\n",
       "      <td>0</td>\n",
       "      <td>Capital One</td>\n",
       "      <td>Mclean, Virginia, United States</td>\n",
       "      <td>Active</td>\n",
       "      <td>For Profit</td>\n",
       "      <td>24.0</td>\n",
       "      <td>10.0</td>\n",
       "      <td>1.0</td>\n",
       "      <td>11.0</td>\n",
       "      <td>NaN</td>\n",
       "      <td>...</td>\n",
       "      <td>NaN</td>\n",
       "      <td>NaN</td>\n",
       "      <td>93.0</td>\n",
       "      <td>138,620,910</td>\n",
       "      <td>142,691,008.83</td>\n",
       "      <td>419.000</td>\n",
       "      <td>3.209361e+09</td>\n",
       "      <td>USD</td>\n",
       "      <td>3.209361e+09</td>\n",
       "      <td>NaN</td>\n",
       "    </tr>\n",
       "    <tr>\n",
       "      <th>1</th>\n",
       "      <td>1</td>\n",
       "      <td>Hivemapper</td>\n",
       "      <td>San Francisco, California, United States</td>\n",
       "      <td>Active</td>\n",
       "      <td>For Profit</td>\n",
       "      <td>NaN</td>\n",
       "      <td>NaN</td>\n",
       "      <td>NaN</td>\n",
       "      <td>NaN</td>\n",
       "      <td>2.0</td>\n",
       "      <td>...</td>\n",
       "      <td>USD</td>\n",
       "      <td>21000000.0</td>\n",
       "      <td>NaN</td>\n",
       "      <td>17.141</td>\n",
       "      <td>15.542</td>\n",
       "      <td>168.000</td>\n",
       "      <td>NaN</td>\n",
       "      <td>NaN</td>\n",
       "      <td>NaN</td>\n",
       "      <td>Spark Capital, GV, 75 &amp; Sunny, Craft Ventures,...</td>\n",
       "    </tr>\n",
       "    <tr>\n",
       "      <th>2</th>\n",
       "      <td>2</td>\n",
       "      <td>Innova Memphis</td>\n",
       "      <td>Memphis, Tennessee, United States</td>\n",
       "      <td>Active</td>\n",
       "      <td>NaN</td>\n",
       "      <td>305.0</td>\n",
       "      <td>61.0</td>\n",
       "      <td>104.0</td>\n",
       "      <td>9.0</td>\n",
       "      <td>NaN</td>\n",
       "      <td>...</td>\n",
       "      <td>NaN</td>\n",
       "      <td>NaN</td>\n",
       "      <td>NaN</td>\n",
       "      <td>5.022</td>\n",
       "      <td>NaN</td>\n",
       "      <td>7.000</td>\n",
       "      <td>NaN</td>\n",
       "      <td>NaN</td>\n",
       "      <td>NaN</td>\n",
       "      <td>NaN</td>\n",
       "    </tr>\n",
       "    <tr>\n",
       "      <th>3</th>\n",
       "      <td>3</td>\n",
       "      <td>NewView Capital</td>\n",
       "      <td>Burlingame, California, United States</td>\n",
       "      <td>Active</td>\n",
       "      <td>For Profit</td>\n",
       "      <td>44.0</td>\n",
       "      <td>9.0</td>\n",
       "      <td>5.0</td>\n",
       "      <td>4.0</td>\n",
       "      <td>NaN</td>\n",
       "      <td>...</td>\n",
       "      <td>NaN</td>\n",
       "      <td>NaN</td>\n",
       "      <td>NaN</td>\n",
       "      <td>5.948</td>\n",
       "      <td>NaN</td>\n",
       "      <td>0.000</td>\n",
       "      <td>NaN</td>\n",
       "      <td>NaN</td>\n",
       "      <td>NaN</td>\n",
       "      <td>NaN</td>\n",
       "    </tr>\n",
       "    <tr>\n",
       "      <th>4</th>\n",
       "      <td>4</td>\n",
       "      <td>US Angel Investors</td>\n",
       "      <td>Palo Alto, California, United States</td>\n",
       "      <td>Active</td>\n",
       "      <td>NaN</td>\n",
       "      <td>3.0</td>\n",
       "      <td>NaN</td>\n",
       "      <td>NaN</td>\n",
       "      <td>NaN</td>\n",
       "      <td>NaN</td>\n",
       "      <td>...</td>\n",
       "      <td>NaN</td>\n",
       "      <td>NaN</td>\n",
       "      <td>NaN</td>\n",
       "      <td>1.132</td>\n",
       "      <td>NaN</td>\n",
       "      <td>33.000</td>\n",
       "      <td>NaN</td>\n",
       "      <td>NaN</td>\n",
       "      <td>NaN</td>\n",
       "      <td>NaN</td>\n",
       "    </tr>\n",
       "    <tr>\n",
       "      <th>...</th>\n",
       "      <td>...</td>\n",
       "      <td>...</td>\n",
       "      <td>...</td>\n",
       "      <td>...</td>\n",
       "      <td>...</td>\n",
       "      <td>...</td>\n",
       "      <td>...</td>\n",
       "      <td>...</td>\n",
       "      <td>...</td>\n",
       "      <td>...</td>\n",
       "      <td>...</td>\n",
       "      <td>...</td>\n",
       "      <td>...</td>\n",
       "      <td>...</td>\n",
       "      <td>...</td>\n",
       "      <td>...</td>\n",
       "      <td>...</td>\n",
       "      <td>...</td>\n",
       "      <td>...</td>\n",
       "      <td>...</td>\n",
       "      <td>...</td>\n",
       "    </tr>\n",
       "    <tr>\n",
       "      <th>2114</th>\n",
       "      <td>2114</td>\n",
       "      <td>Nazara Technologies</td>\n",
       "      <td>Mumbai, Maharashtra, India</td>\n",
       "      <td>Active</td>\n",
       "      <td>For Profit</td>\n",
       "      <td>11.0</td>\n",
       "      <td>10.0</td>\n",
       "      <td>NaN</td>\n",
       "      <td>3.0</td>\n",
       "      <td>6.0</td>\n",
       "      <td>...</td>\n",
       "      <td>USD</td>\n",
       "      <td>146371285.0</td>\n",
       "      <td>NaN</td>\n",
       "      <td>11.634</td>\n",
       "      <td>17,922.33</td>\n",
       "      <td>98.000</td>\n",
       "      <td>NaN</td>\n",
       "      <td>NaN</td>\n",
       "      <td>NaN</td>\n",
       "      <td>Sequoia Capital, Westbridge Capital, IIFL Asse...</td>\n",
       "    </tr>\n",
       "    <tr>\n",
       "      <th>2115</th>\n",
       "      <td>2115</td>\n",
       "      <td>BigBear.ai</td>\n",
       "      <td>Columbia, Maryland, United States</td>\n",
       "      <td>Active</td>\n",
       "      <td>For Profit</td>\n",
       "      <td>NaN</td>\n",
       "      <td>NaN</td>\n",
       "      <td>NaN</td>\n",
       "      <td>NaN</td>\n",
       "      <td>NaN</td>\n",
       "      <td>...</td>\n",
       "      <td>USD</td>\n",
       "      <td>200000000.0</td>\n",
       "      <td>NaN</td>\n",
       "      <td>33.789</td>\n",
       "      <td>15,032.83</td>\n",
       "      <td>458.000</td>\n",
       "      <td>NaN</td>\n",
       "      <td>NaN</td>\n",
       "      <td>NaN</td>\n",
       "      <td>Fortress Investment Group, Marathon Asset Mana...</td>\n",
       "    </tr>\n",
       "    <tr>\n",
       "      <th>2116</th>\n",
       "      <td>2116</td>\n",
       "      <td>Arca</td>\n",
       "      <td>Los Angeles, California, United States</td>\n",
       "      <td>Active</td>\n",
       "      <td>For Profit</td>\n",
       "      <td>10.0</td>\n",
       "      <td>1.0</td>\n",
       "      <td>NaN</td>\n",
       "      <td>1.0</td>\n",
       "      <td>2.0</td>\n",
       "      <td>...</td>\n",
       "      <td>USD</td>\n",
       "      <td>10000000.0</td>\n",
       "      <td>NaN</td>\n",
       "      <td>33.578</td>\n",
       "      <td>22,816.5</td>\n",
       "      <td>71.000</td>\n",
       "      <td>NaN</td>\n",
       "      <td>NaN</td>\n",
       "      <td>NaN</td>\n",
       "      <td>RRE Ventures, Arca, Littlebanc Advisors LLC., ...</td>\n",
       "    </tr>\n",
       "    <tr>\n",
       "      <th>2117</th>\n",
       "      <td>2117</td>\n",
       "      <td>Matrixport</td>\n",
       "      <td>Singapore, Central Region, Singapore</td>\n",
       "      <td>Active</td>\n",
       "      <td>For Profit</td>\n",
       "      <td>5.0</td>\n",
       "      <td>NaN</td>\n",
       "      <td>NaN</td>\n",
       "      <td>NaN</td>\n",
       "      <td>3.0</td>\n",
       "      <td>...</td>\n",
       "      <td>USD</td>\n",
       "      <td>100000000.0</td>\n",
       "      <td>NaN</td>\n",
       "      <td>443.096</td>\n",
       "      <td>367,762.83</td>\n",
       "      <td>1.532</td>\n",
       "      <td>NaN</td>\n",
       "      <td>NaN</td>\n",
       "      <td>NaN</td>\n",
       "      <td>IDG Capital, Tiger Global Management, Polychai...</td>\n",
       "    </tr>\n",
       "    <tr>\n",
       "      <th>2118</th>\n",
       "      <td>2118</td>\n",
       "      <td>Cyara</td>\n",
       "      <td>Redwood City, California, United States</td>\n",
       "      <td>Active</td>\n",
       "      <td>For Profit</td>\n",
       "      <td>NaN</td>\n",
       "      <td>NaN</td>\n",
       "      <td>NaN</td>\n",
       "      <td>NaN</td>\n",
       "      <td>2.0</td>\n",
       "      <td>...</td>\n",
       "      <td>USD</td>\n",
       "      <td>375000000.0</td>\n",
       "      <td>1.0</td>\n",
       "      <td>8.422</td>\n",
       "      <td>4,357.83</td>\n",
       "      <td>176.000</td>\n",
       "      <td>2.547265e+06</td>\n",
       "      <td>USD</td>\n",
       "      <td>2.547265e+06</td>\n",
       "      <td>K1 Investment Management, PeakSpan Capital, Gr...</td>\n",
       "    </tr>\n",
       "  </tbody>\n",
       "</table>\n",
       "<p>2074 rows × 35 columns</p>\n",
       "</div>"
      ],
      "text/plain": [
       "        Id                Label                     Headquarters Location  \\\n",
       "0        0          Capital One           Mclean, Virginia, United States   \n",
       "1        1           Hivemapper  San Francisco, California, United States   \n",
       "2        2       Innova Memphis         Memphis, Tennessee, United States   \n",
       "3        3      NewView Capital     Burlingame, California, United States   \n",
       "4        4   US Angel Investors      Palo Alto, California, United States   \n",
       "...    ...                  ...                                       ...   \n",
       "2114  2114  Nazara Technologies                Mumbai, Maharashtra, India   \n",
       "2115  2115           BigBear.ai         Columbia, Maryland, United States   \n",
       "2116  2116                 Arca    Los Angeles, California, United States   \n",
       "2117  2117           Matrixport      Singapore, Central Region, Singapore   \n",
       "2118  2118                Cyara   Redwood City, California, United States   \n",
       "\n",
       "     Operating Status Company Type  Number of Investments  \\\n",
       "0              Active   For Profit                   24.0   \n",
       "1              Active   For Profit                    NaN   \n",
       "2              Active          NaN                  305.0   \n",
       "3              Active   For Profit                   44.0   \n",
       "4              Active          NaN                    3.0   \n",
       "...               ...          ...                    ...   \n",
       "2114           Active   For Profit                   11.0   \n",
       "2115           Active   For Profit                    NaN   \n",
       "2116           Active   For Profit                   10.0   \n",
       "2117           Active   For Profit                    5.0   \n",
       "2118           Active   For Profit                    NaN   \n",
       "\n",
       "      Number of Lead Investments  Number of Diversity Investments  \\\n",
       "0                           10.0                              1.0   \n",
       "1                            NaN                              NaN   \n",
       "2                           61.0                            104.0   \n",
       "3                            9.0                              5.0   \n",
       "4                            NaN                              NaN   \n",
       "...                          ...                              ...   \n",
       "2114                        10.0                              NaN   \n",
       "2115                         NaN                              NaN   \n",
       "2116                         1.0                              NaN   \n",
       "2117                         NaN                              NaN   \n",
       "2118                         NaN                              NaN   \n",
       "\n",
       "      Number of Exits  Number of Lead Investors  ...  \\\n",
       "0                11.0                       NaN  ...   \n",
       "1                 NaN                       2.0  ...   \n",
       "2                 9.0                       NaN  ...   \n",
       "3                 4.0                       NaN  ...   \n",
       "4                 NaN                       NaN  ...   \n",
       "...               ...                       ...  ...   \n",
       "2114              3.0                       6.0  ...   \n",
       "2115              NaN                       NaN  ...   \n",
       "2116              1.0                       2.0  ...   \n",
       "2117              NaN                       3.0  ...   \n",
       "2118              NaN                       2.0  ...   \n",
       "\n",
       "      Total Funding Amount Currency Total Funding Amount Currency (in USD)  \\\n",
       "0                               NaN                                    NaN   \n",
       "1                               USD                             21000000.0   \n",
       "2                               NaN                                    NaN   \n",
       "3                               NaN                                    NaN   \n",
       "4                               NaN                                    NaN   \n",
       "...                             ...                                    ...   \n",
       "2114                            USD                            146371285.0   \n",
       "2115                            USD                            200000000.0   \n",
       "2116                            USD                             10000000.0   \n",
       "2117                            USD                            100000000.0   \n",
       "2118                            USD                            375000000.0   \n",
       "\n",
       "     Number of Events  SEMrush - Monthly Visits  \\\n",
       "0                93.0               138,620,910   \n",
       "1                 NaN                    17.141   \n",
       "2                 NaN                     5.022   \n",
       "3                 NaN                     5.948   \n",
       "4                 NaN                     1.132   \n",
       "...               ...                       ...   \n",
       "2114              NaN                    11.634   \n",
       "2115              NaN                    33.789   \n",
       "2116              NaN                    33.578   \n",
       "2117              NaN                   443.096   \n",
       "2118              1.0                     8.422   \n",
       "\n",
       "     SEMrush - Average Visits (6 months) SEMrush - Visit Duration  \\\n",
       "0                         142,691,008.83                  419.000   \n",
       "1                                 15.542                  168.000   \n",
       "2                                    NaN                    7.000   \n",
       "3                                    NaN                    0.000   \n",
       "4                                    NaN                   33.000   \n",
       "...                                  ...                      ...   \n",
       "2114                           17,922.33                   98.000   \n",
       "2115                           15,032.83                  458.000   \n",
       "2116                            22,816.5                   71.000   \n",
       "2117                          367,762.83                    1.532   \n",
       "2118                            4,357.83                  176.000   \n",
       "\n",
       "      Aberdeen - IT Spend Aberdeen - IT Spend Currency  \\\n",
       "0            3.209361e+09                          USD   \n",
       "1                     NaN                          NaN   \n",
       "2                     NaN                          NaN   \n",
       "3                     NaN                          NaN   \n",
       "4                     NaN                          NaN   \n",
       "...                   ...                          ...   \n",
       "2114                  NaN                          NaN   \n",
       "2115                  NaN                          NaN   \n",
       "2116                  NaN                          NaN   \n",
       "2117                  NaN                          NaN   \n",
       "2118         2.547265e+06                          USD   \n",
       "\n",
       "      Aberdeen - IT Spend Currency (in USD)  \\\n",
       "0                              3.209361e+09   \n",
       "1                                       NaN   \n",
       "2                                       NaN   \n",
       "3                                       NaN   \n",
       "4                                       NaN   \n",
       "...                                     ...   \n",
       "2114                                    NaN   \n",
       "2115                                    NaN   \n",
       "2116                                    NaN   \n",
       "2117                                    NaN   \n",
       "2118                           2.547265e+06   \n",
       "\n",
       "                             Principales inversionistas  \n",
       "0                                                   NaN  \n",
       "1     Spark Capital, GV, 75 & Sunny, Craft Ventures,...  \n",
       "2                                                   NaN  \n",
       "3                                                   NaN  \n",
       "4                                                   NaN  \n",
       "...                                                 ...  \n",
       "2114  Sequoia Capital, Westbridge Capital, IIFL Asse...  \n",
       "2115  Fortress Investment Group, Marathon Asset Mana...  \n",
       "2116  RRE Ventures, Arca, Littlebanc Advisors LLC., ...  \n",
       "2117  IDG Capital, Tiger Global Management, Polychai...  \n",
       "2118  K1 Investment Management, PeakSpan Capital, Gr...  \n",
       "\n",
       "[2074 rows x 35 columns]"
      ]
     },
     "execution_count": 32,
     "metadata": {},
     "output_type": "execute_result"
    }
   ],
   "source": [
    "nodos_componente_1 = nodos.reset_index()\n",
    "nodos_componente_1 = nodos_componente_1[nodos_componente_1.Id.isin(nodos_primera_componente)]\n",
    "nodos_componente_1"
   ]
  },
  {
   "cell_type": "code",
   "execution_count": 37,
   "metadata": {},
   "outputs": [],
   "source": [
    "import re\n",
    "arcos_componente_1 = arcos.reset_index()\n",
    "arcos_componente_1 = arcos_componente_1.merge(nodos_componente_1[\"Id\"], left_on=\"SOURCE\", right_on=\"Id\")\n",
    "arcos_componente_1 = arcos_componente_1.merge(nodos_componente_1[\"Id\"], left_on=\"TARGET\", right_on=\"Id\")[[campo for campo in arcos_componente_1.columns if not(re.search(\"^Id\", campo))]]\n",
    "arcos_componente_1 = arcos_componente_1.reset_index().rename(columns = {\"index\":\"Id\"})"
   ]
  },
  {
   "cell_type": "code",
   "execution_count": 38,
   "metadata": {},
   "outputs": [],
   "source": [
    "# Exportar nodos y arcos de la componente 1\n",
    "nodos_componente_1.to_csv('../INPUTS/nodos_componente_1.csv', index=False)\n",
    "arcos_componente_1.to_csv('../INPUTS/arcos_componente_1.csv', index=False)"
   ]
  },
  {
   "cell_type": "code",
   "execution_count": null,
   "metadata": {},
   "outputs": [],
   "source": []
  }
 ],
 "metadata": {
  "kernelspec": {
   "display_name": "Python 3",
   "language": "python",
   "name": "python3"
  },
  "language_info": {
   "codemirror_mode": {
    "name": "ipython",
    "version": 3
   },
   "file_extension": ".py",
   "mimetype": "text/x-python",
   "name": "python",
   "nbconvert_exporter": "python",
   "pygments_lexer": "ipython3",
   "version": "3.9.13"
  }
 },
 "nbformat": 4,
 "nbformat_minor": 2
}
